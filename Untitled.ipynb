{
 "cells": [
  {
   "cell_type": "code",
   "execution_count": 1,
   "metadata": {},
   "outputs": [],
   "source": [
    "import pandas as pd"
   ]
  },
  {
   "cell_type": "code",
   "execution_count": 2,
   "metadata": {},
   "outputs": [],
   "source": [
    "data = pd.read_csv('ks-projects-201801.csv')"
   ]
  },
  {
   "cell_type": "code",
   "execution_count": 58,
   "metadata": {},
   "outputs": [],
   "source": [
    "a = data['country']=='US'"
   ]
  },
  {
   "cell_type": "code",
   "execution_count": 61,
   "metadata": {},
   "outputs": [
    {
     "data": {
      "text/plain": [
       "152061"
      ]
     },
     "execution_count": 61,
     "metadata": {},
     "output_type": "execute_result"
    }
   ],
   "source": [
    "sum(data[a]['state']=='failed')"
   ]
  },
  {
   "cell_type": "code",
   "execution_count": 65,
   "metadata": {},
   "outputs": [
    {
     "data": {
      "text/plain": [
       "109299"
      ]
     },
     "execution_count": 65,
     "metadata": {},
     "output_type": "execute_result"
    }
   ],
   "source": [
    "sum(data[a]['state']=='successful')"
   ]
  },
  {
   "cell_type": "code",
   "execution_count": 67,
   "metadata": {},
   "outputs": [
    {
     "data": {
      "text/plain": [
       "292627"
      ]
     },
     "execution_count": 67,
     "metadata": {},
     "output_type": "execute_result"
    }
   ],
   "source": [
    "len(data[a]['state'])"
   ]
  },
  {
   "cell_type": "code",
   "execution_count": 74,
   "metadata": {},
   "outputs": [
    {
     "data": {
      "text/plain": [
       "array(['GB', 'US', 'CA', 'AU', 'NO', 'IT', 'DE', 'IE', 'MX', 'ES', 'N,0\"',\n",
       "       'SE', 'FR', 'NL', 'NZ', 'CH', 'AT', 'DK', 'BE', 'HK', 'LU', 'SG',\n",
       "       'JP'], dtype=object)"
      ]
     },
     "execution_count": 74,
     "metadata": {},
     "output_type": "execute_result"
    }
   ],
   "source": [
    "(data['country'].unique())"
   ]
  },
  {
   "cell_type": "code",
   "execution_count": 77,
   "metadata": {},
   "outputs": [],
   "source": [
    "country = ['GB','US','CA','AU','NO','IT','DE','IE','MX','ES','SE','FR','NL','NZ','CH','AT','DK','BE','HK','LU','SG','JP']"
   ]
  },
  {
   "cell_type": "code",
   "execution_count": 87,
   "metadata": {},
   "outputs": [
    {
     "name": "stdout",
     "output_type": "stream",
     "text": [
      "GB 0.3583689712520789\n",
      "fail 0.5163637443573296\n",
      "US 0.3735096214635013\n",
      "fail 0.5196410447429664\n",
      "CA 0.28015722417999456\n",
      "fail 0.5581458389807535\n",
      "AU 0.2564102564102564\n",
      "fail 0.587574945783901\n",
      "NO 0.2288135593220339\n",
      "fail 0.5932203389830508\n",
      "IT 0.15253648366921474\n",
      "fail 0.6706045865184156\n",
      "DE 0.22464636777751137\n",
      "fail 0.5991368976264685\n",
      "IE 0.25524044389642414\n",
      "fail 0.5869297163995068\n",
      "MX 0.22602739726027396\n",
      "fail 0.579337899543379\n",
      "ES 0.21616871704745166\n",
      "fail 0.6067662565905096\n",
      "SE 0.2896983494593056\n",
      "fail 0.5691519635742743\n",
      "FR 0.3089486219802654\n",
      "fail 0.5484858795508677\n",
      "NL 0.21513249651324964\n",
      "fail 0.6255230125523012\n",
      "NZ 0.30960608154803043\n",
      "fail 0.5708362128541811\n",
      "CH 0.2457293035479632\n",
      "fail 0.6110381077529566\n",
      "AT 0.17922948073701842\n",
      "fail 0.6331658291457286\n",
      "DK 0.32345013477088946\n",
      "fail 0.5085354896675651\n",
      "BE 0.24635332252836303\n",
      "fail 0.6012965964343598\n",
      "HK 0.34951456310679613\n",
      "fail 0.4223300970873786\n",
      "LU 0.3064516129032258\n",
      "fail 0.6129032258064516\n",
      "SG 0.3207207207207207\n",
      "fail 0.4972972972972973\n",
      "JP 0.175\n",
      "fail 0.4\n"
     ]
    }
   ],
   "source": [
    "for i in range(len(country)):\n",
    "    a = data['country']==country[i]\n",
    "    f = sum(data[a]['state']=='failed')\n",
    "    su = sum(data[a]['state']=='successful')\n",
    "    tot = len(data[a]['state'])\n",
    "    print(country[i],sum(data[a]['state']=='successful')/len(data[a]['state']))\n",
    "    print('fail',sum(data[a]['state']=='failed')/len(data[a]['state']))"
   ]
  },
  {
   "cell_type": "code",
   "execution_count": 85,
   "metadata": {},
   "outputs": [
    {
     "data": {
      "text/plain": [
       "0         False\n",
       "1         False\n",
       "2         False\n",
       "3         False\n",
       "4         False\n",
       "5         False\n",
       "6         False\n",
       "7         False\n",
       "8         False\n",
       "9         False\n",
       "10        False\n",
       "11        False\n",
       "12        False\n",
       "13        False\n",
       "14        False\n",
       "15        False\n",
       "16        False\n",
       "17        False\n",
       "18        False\n",
       "19        False\n",
       "20        False\n",
       "21        False\n",
       "22        False\n",
       "23        False\n",
       "24        False\n",
       "25        False\n",
       "26        False\n",
       "27        False\n",
       "28        False\n",
       "29        False\n",
       "          ...  \n",
       "378631    False\n",
       "378632    False\n",
       "378633    False\n",
       "378634    False\n",
       "378635    False\n",
       "378636    False\n",
       "378637    False\n",
       "378638    False\n",
       "378639    False\n",
       "378640    False\n",
       "378641    False\n",
       "378642    False\n",
       "378643    False\n",
       "378644    False\n",
       "378645    False\n",
       "378646    False\n",
       "378647    False\n",
       "378648    False\n",
       "378649    False\n",
       "378650    False\n",
       "378651    False\n",
       "378652    False\n",
       "378653    False\n",
       "378654    False\n",
       "378655    False\n",
       "378656    False\n",
       "378657    False\n",
       "378658    False\n",
       "378659    False\n",
       "378660    False\n",
       "Name: country, Length: 378661, dtype: bool"
      ]
     },
     "execution_count": 85,
     "metadata": {},
     "output_type": "execute_result"
    }
   ],
   "source": [
    "a"
   ]
  },
  {
   "cell_type": "code",
   "execution_count": null,
   "metadata": {},
   "outputs": [],
   "source": []
  }
 ],
 "metadata": {
  "kernelspec": {
   "display_name": "Python 3",
   "language": "python",
   "name": "python3"
  },
  "language_info": {
   "codemirror_mode": {
    "name": "ipython",
    "version": 3
   },
   "file_extension": ".py",
   "mimetype": "text/x-python",
   "name": "python",
   "nbconvert_exporter": "python",
   "pygments_lexer": "ipython3",
   "version": "3.7.3"
  }
 },
 "nbformat": 4,
 "nbformat_minor": 2
}
